{
  "nbformat": 4,
  "nbformat_minor": 0,
  "metadata": {
    "colab": {
      "provenance": [],
      "authorship_tag": "ABX9TyNdizXdQAeeCKlREm8cTUt4",
      "include_colab_link": true
    },
    "kernelspec": {
      "name": "python3",
      "display_name": "Python 3"
    },
    "language_info": {
      "name": "python"
    }
  },
  "cells": [
    {
      "cell_type": "markdown",
      "metadata": {
        "id": "view-in-github",
        "colab_type": "text"
      },
      "source": [
        "<a href=\"https://colab.research.google.com/github/AshwiniPushkarr/-Linear-Regresion/blob/main/Working%20with%20Text%20Data.ipynb\" target=\"_parent\"><img src=\"https://colab.research.google.com/assets/colab-badge.svg\" alt=\"Open In Colab\"/></a>"
      ]
    },
    {
      "cell_type": "code",
      "execution_count": 12,
      "metadata": {
        "id": "DMxlsxUfHQxf"
      },
      "outputs": [],
      "source": [
        "import re\n"
      ]
    },
    {
      "cell_type": "code",
      "source": [
        "def find_pattern(patterns,text):\n",
        "  if re.search(patterns,text):\n",
        "    return re.search(patterns,text)\n",
        "  else:\n",
        "    return 'not found'"
      ],
      "metadata": {
        "id": "bYSs44irHeGu"
      },
      "execution_count": 19,
      "outputs": []
    },
    {
      "cell_type": "markdown",
      "source": [
        " - Anchors -finds patterns in the beginning or ending of the text"
      ],
      "metadata": {
        "id": "bwfPNdz0IQTR"
      }
    },
    {
      "cell_type": "code",
      "source": [
        "# ^ - start of a string\n",
        "print(find_pattern(\"^J\",\"James\"))"
      ],
      "metadata": {
        "colab": {
          "base_uri": "https://localhost:8080/"
        },
        "id": "xMCkms3YIW50",
        "outputId": "8b6a6be9-c869-4dc8-a9ee-d42f1806f616"
      },
      "execution_count": 20,
      "outputs": [
        {
          "output_type": "stream",
          "name": "stdout",
          "text": [
            "<re.Match object; span=(0, 1), match='J'>\n"
          ]
        }
      ]
    },
    {
      "cell_type": "code",
      "source": [
        "\n",
        "print(find_pattern(\"^A\",\"Ashwini\"))"
      ],
      "metadata": {
        "colab": {
          "base_uri": "https://localhost:8080/"
        },
        "id": "h8BHNFMRItuY",
        "outputId": "527cb389-92f0-4176-f376-507c8444108d"
      },
      "execution_count": 22,
      "outputs": [
        {
          "output_type": "stream",
          "name": "stdout",
          "text": [
            "<re.Match object; span=(0, 1), match='A'>\n"
          ]
        }
      ]
    },
    {
      "cell_type": "code",
      "source": [
        "print(find_pattern(\"^T\",\"Titan\"))"
      ],
      "metadata": {
        "colab": {
          "base_uri": "https://localhost:8080/"
        },
        "id": "3EDnsLoZKWys",
        "outputId": "7b46bc2b-bb46-40c3-8603-f963b3375a65"
      },
      "execution_count": 23,
      "outputs": [
        {
          "output_type": "stream",
          "name": "stdout",
          "text": [
            "<re.Match object; span=(0, 1), match='T'>\n"
          ]
        }
      ]
    },
    {
      "cell_type": "code",
      "source": [
        "print(find_pattern(\"^D\",\"DS\"))"
      ],
      "metadata": {
        "colab": {
          "base_uri": "https://localhost:8080/"
        },
        "id": "S_81---NLHjX",
        "outputId": "76d800fc-836c-4188-c6f1-de22d5412f03"
      },
      "execution_count": 24,
      "outputs": [
        {
          "output_type": "stream",
          "name": "stdout",
          "text": [
            "<re.Match object; span=(0, 1), match='D'>\n"
          ]
        }
      ]
    },
    {
      "cell_type": "code",
      "source": [
        "# '$': Indicates end of the string"
      ],
      "metadata": {
        "id": "wcchjkUxLK34"
      },
      "execution_count": 25,
      "outputs": []
    },
    {
      "cell_type": "code",
      "source": [
        "print(find_pattern(\"A$\",\"shwiniA\"))"
      ],
      "metadata": {
        "colab": {
          "base_uri": "https://localhost:8080/"
        },
        "id": "3_NlgCq3LSnK",
        "outputId": "b015d055-686f-4014-9884-ff9087b4e91d"
      },
      "execution_count": 28,
      "outputs": [
        {
          "output_type": "stream",
          "name": "stdout",
          "text": [
            "<re.Match object; span=(6, 7), match='A'>\n"
          ]
        }
      ]
    },
    {
      "cell_type": "code",
      "source": [
        "print(find_pattern(\"h$\",\"Bangladesh\"))"
      ],
      "metadata": {
        "colab": {
          "base_uri": "https://localhost:8080/"
        },
        "id": "YowYOa0dL28C",
        "outputId": "f10fb094-590a-49c4-c4e2-9351614afc9a"
      },
      "execution_count": 29,
      "outputs": [
        {
          "output_type": "stream",
          "name": "stdout",
          "text": [
            "<re.Match object; span=(9, 10), match='h'>\n"
          ]
        }
      ]
    },
    {
      "cell_type": "code",
      "source": [
        "print(find_pattern(\"a$\",\"India\"))"
      ],
      "metadata": {
        "colab": {
          "base_uri": "https://localhost:8080/"
        },
        "id": "ko8S7iUkMQx_",
        "outputId": "93061394-5fd8-4790-ea05-10ac3b7ca918"
      },
      "execution_count": 30,
      "outputs": [
        {
          "output_type": "stream",
          "name": "stdout",
          "text": [
            "<re.Match object; span=(4, 5), match='a'>\n"
          ]
        }
      ]
    },
    {
      "cell_type": "code",
      "source": [
        "print(find_pattern(\"$in\",\"Machine Learning\")) # at last, \"in\" is not there.. so its showing not found"
      ],
      "metadata": {
        "colab": {
          "base_uri": "https://localhost:8080/"
        },
        "id": "MsR00-mSMeRk",
        "outputId": "1f7386d4-263d-42aa-b2a9-0b2af18354e2"
      },
      "execution_count": 31,
      "outputs": [
        {
          "output_type": "stream",
          "name": "stdout",
          "text": [
            "not found\n"
          ]
        }
      ]
    },
    {
      "cell_type": "code",
      "source": [
        "# Quantifiers - finds patterns ianyewhere in the text"
      ],
      "metadata": {
        "id": "TJOI3zuYM9bH"
      },
      "execution_count": 40,
      "outputs": []
    },
    {
      "cell_type": "code",
      "source": [
        "# \"*\" : Zero or more(0,inf)"
      ],
      "metadata": {
        "id": "Kevlvf5mOEGy"
      },
      "execution_count": 33,
      "outputs": []
    },
    {
      "cell_type": "code",
      "source": [
        "print(find_pattern(\"in*\",\"Machine Learning\"))"
      ],
      "metadata": {
        "colab": {
          "base_uri": "https://localhost:8080/"
        },
        "id": "BSOPoJrVOohR",
        "outputId": "7bb6cbd6-c7b6-4a5d-e1be-05bb63aaf7c2"
      },
      "execution_count": 34,
      "outputs": [
        {
          "output_type": "stream",
          "name": "stdout",
          "text": [
            "<re.Match object; span=(4, 6), match='in'>\n"
          ]
        }
      ]
    },
    {
      "cell_type": "code",
      "source": [
        "print(find_pattern(\"ab*\",\"abbc\"))"
      ],
      "metadata": {
        "colab": {
          "base_uri": "https://localhost:8080/"
        },
        "id": "jHdUvl2xOuYK",
        "outputId": "7d5b58d0-7375-4714-9ee4-016b66a487be"
      },
      "execution_count": 36,
      "outputs": [
        {
          "output_type": "stream",
          "name": "stdout",
          "text": [
            "<re.Match object; span=(0, 3), match='abb'>\n"
          ]
        }
      ]
    },
    {
      "cell_type": "code",
      "source": [
        "print(find_pattern(\"cb*\",\"abc\"))"
      ],
      "metadata": {
        "colab": {
          "base_uri": "https://localhost:8080/"
        },
        "id": "s-w9GugrO7JV",
        "outputId": "960c3b6f-3bd9-4a8d-d4a9-fcf66c0d36e7"
      },
      "execution_count": 38,
      "outputs": [
        {
          "output_type": "stream",
          "name": "stdout",
          "text": [
            "<re.Match object; span=(2, 3), match='c'>\n"
          ]
        }
      ]
    },
    {
      "cell_type": "code",
      "source": [
        "print(find_pattern(\"ab*\",\"abbcab\"))"
      ],
      "metadata": {
        "colab": {
          "base_uri": "https://localhost:8080/"
        },
        "id": "sJad8Fk3O8Ks",
        "outputId": "940b6342-7d79-414a-be17-30409133af11"
      },
      "execution_count": 37,
      "outputs": [
        {
          "output_type": "stream",
          "name": "stdout",
          "text": [
            "<re.Match object; span=(0, 3), match='abb'>\n"
          ]
        }
      ]
    },
    {
      "cell_type": "code",
      "source": [
        "# \"?\" : Zero or more(0,1)"
      ],
      "metadata": {
        "id": "HW56YKBmP2hm"
      },
      "execution_count": null,
      "outputs": []
    },
    {
      "cell_type": "code",
      "source": [
        "print(find_pattern(\"ab?\",\"adcb\"))"
      ],
      "metadata": {
        "colab": {
          "base_uri": "https://localhost:8080/"
        },
        "id": "FU8oX5RKP2oU",
        "outputId": "ac58463e-7597-4e06-8db9-e055d5051cc7"
      },
      "execution_count": 42,
      "outputs": [
        {
          "output_type": "stream",
          "name": "stdout",
          "text": [
            "<re.Match object; span=(0, 1), match='a'>\n"
          ]
        }
      ]
    },
    {
      "cell_type": "code",
      "source": [
        "print(find_pattern(\"ab?\",\"abbc\"))\n",
        "print(find_pattern(\"cb?\",\"abc\"))\n",
        "print(find_pattern(\"ab?\",\"abbcab\"))\n"
      ],
      "metadata": {
        "colab": {
          "base_uri": "https://localhost:8080/"
        },
        "id": "7YJAwbBuP2ue",
        "outputId": "26f709c4-f314-46af-db2e-fcc3a6966027"
      },
      "execution_count": 44,
      "outputs": [
        {
          "output_type": "stream",
          "name": "stdout",
          "text": [
            "<re.Match object; span=(0, 2), match='ab'>\n",
            "<re.Match object; span=(2, 3), match='c'>\n",
            "<re.Match object; span=(0, 2), match='ab'>\n"
          ]
        }
      ]
    },
    {
      "cell_type": "code",
      "source": [
        "print(find_pattern(\"ab*\",\"abbc\"))\n",
        "print(find_pattern(\"ab?\",\"abbc\"))\n"
      ],
      "metadata": {
        "colab": {
          "base_uri": "https://localhost:8080/"
        },
        "id": "bqylqkmVP2y5",
        "outputId": "948eb629-9269-473e-89e3-217028b0aa4d"
      },
      "execution_count": 51,
      "outputs": [
        {
          "output_type": "stream",
          "name": "stdout",
          "text": [
            "<re.Match object; span=(0, 3), match='abb'>\n",
            "<re.Match object; span=(0, 2), match='ab'>\n"
          ]
        }
      ]
    },
    {
      "cell_type": "code",
      "source": [
        "# \"+\" : One or more(1,inf)\n",
        "# case sensitive\n",
        "# Order matters"
      ],
      "metadata": {
        "id": "6AlMokF_Q6NG"
      },
      "execution_count": 47,
      "outputs": []
    },
    {
      "cell_type": "code",
      "source": [
        "print(find_pattern(\"ab*\",\"abbc\"))\n",
        "print(find_pattern(\"ab?\",\"abbc\"))\n",
        "print(find_pattern(\"ab+\",\"abbc\"))"
      ],
      "metadata": {
        "colab": {
          "base_uri": "https://localhost:8080/"
        },
        "id": "qEoqKt3rRQcH",
        "outputId": "fbe0a89c-dc09-46c2-dfc3-3716c72d263a"
      },
      "execution_count": 48,
      "outputs": [
        {
          "output_type": "stream",
          "name": "stdout",
          "text": [
            "<re.Match object; span=(0, 3), match='abb'>\n",
            "<re.Match object; span=(0, 2), match='ab'>\n",
            "<re.Match object; span=(0, 3), match='abb'>\n"
          ]
        }
      ]
    },
    {
      "cell_type": "code",
      "source": [
        "print(find_pattern(\"ab+\",\"abbc\"))\n",
        "print(find_pattern(\"cb+\",\"abc\"))\n",
        "print(find_pattern(\"ab+\",\"abbcab\"))\n"
      ],
      "metadata": {
        "colab": {
          "base_uri": "https://localhost:8080/"
        },
        "id": "BS7cgCiGRhvD",
        "outputId": "9aa6bd56-a937-4baf-c0b4-1f680365b2a4"
      },
      "execution_count": 50,
      "outputs": [
        {
          "output_type": "stream",
          "name": "stdout",
          "text": [
            "<re.Match object; span=(0, 3), match='abb'>\n",
            "not found\n",
            "<re.Match object; span=(0, 3), match='abb'>\n"
          ]
        }
      ]
    },
    {
      "cell_type": "code",
      "source": [
        "print(find_pattern(\"a+b\",\"abbcab\"))"
      ],
      "metadata": {
        "colab": {
          "base_uri": "https://localhost:8080/"
        },
        "id": "rM4jDEPSRoGk",
        "outputId": "e6b30e6a-cccd-4a20-9250-7636740d74e3"
      },
      "execution_count": 52,
      "outputs": [
        {
          "output_type": "stream",
          "name": "stdout",
          "text": [
            "<re.Match object; span=(0, 2), match='ab'>\n"
          ]
        }
      ]
    },
    {
      "cell_type": "code",
      "source": [
        "print(re.search(r\"ab?\", \"abbc\"))"
      ],
      "metadata": {
        "colab": {
          "base_uri": "https://localhost:8080/"
        },
        "id": "fVd5m-8OSP08",
        "outputId": "37c92987-ede3-43de-caf7-0c160fb4958e"
      },
      "execution_count": 53,
      "outputs": [
        {
          "output_type": "stream",
          "name": "stdout",
          "text": [
            "<re.Match object; span=(0, 2), match='ab'>\n"
          ]
        }
      ]
    },
    {
      "cell_type": "code",
      "source": [],
      "metadata": {
        "id": "TuuqmyrATDVD"
      },
      "execution_count": null,
      "outputs": []
    },
    {
      "cell_type": "code",
      "source": [
        "#{n} - Matches if a character is present exactly n no of times\n",
        "#{m,n} - Matches if a character is present n to m  no of times(m and n both exclusive)\n",
        "# case sensitive\n",
        "# Order matters\n",
        "\n"
      ],
      "metadata": {
        "id": "o51vTUdHUBBk"
      },
      "execution_count": 57,
      "outputs": []
    },
    {
      "cell_type": "code",
      "source": [
        "print(find_pattern(\"a{1}b{2}\",\"abc\"))\n",
        "print(find_pattern(\"ab{2}\",\"abbc\"))\n",
        "print(find_pattern(\"a{2}b{2}\",\"abbc\"))\n",
        "print(find_pattern(\"a{1,2}b{2}\",\"abbc\"))"
      ],
      "metadata": {
        "colab": {
          "base_uri": "https://localhost:8080/"
        },
        "id": "w9yJwIrfUts_",
        "outputId": "b0c9cab9-228f-4069-8196-03eadfea2d20"
      },
      "execution_count": 56,
      "outputs": [
        {
          "output_type": "stream",
          "name": "stdout",
          "text": [
            "not found\n",
            "<re.Match object; span=(0, 3), match='abb'>\n",
            "not found\n",
            "<re.Match object; span=(0, 3), match='abb'>\n"
          ]
        }
      ]
    },
    {
      "cell_type": "code",
      "source": [
        "# check the mobile no\n",
        "# mob no should have 10 digits\n",
        "# first digit should not be leass than 6\n",
        "\n"
      ],
      "metadata": {
        "id": "Odgt2RtxU8ML"
      },
      "execution_count": 58,
      "outputs": []
    },
    {
      "cell_type": "code",
      "source": [
        "pattern=''\n",
        "print(find_pattern(\"^[6-9]\\d{9}$\",\"1234567890\"))\n",
        "print(find_pattern(\"^[6-9]\\d{9}$\",\"98765432100\"))\n",
        "print(find_pattern(\"^[6-9]\\d{9}$\",\"987654321\"))\n",
        "print(find_pattern(\"^[6-9]\\d{9}$\",\"05642587547\"))\n",
        "print(find_pattern(\"^[6-9]\\d{9}$\",\"9876543211\"))\n",
        "print(find_pattern(\"\",\"7022537531\"))"
      ],
      "metadata": {
        "colab": {
          "base_uri": "https://localhost:8080/"
        },
        "id": "CV5zusvoWr0N",
        "outputId": "f4c511aa-a0c1-43af-b933-b8ad6672fa03"
      },
      "execution_count": 64,
      "outputs": [
        {
          "output_type": "stream",
          "name": "stdout",
          "text": [
            "not found\n",
            "not found\n",
            "not found\n",
            "not found\n",
            "<re.Match object; span=(0, 10), match='9876543211'>\n",
            "<re.Match object; span=(0, 10), match='7022537531'>\n"
          ]
        }
      ]
    },
    {
      "cell_type": "code",
      "source": [
        "pattern='^[6-9]\\d{9}$'\n",
        "print(find_pattern(\"^[6-9]\\d{9}$\",\"1234567890\"))\n",
        "print(find_pattern(\"^[6-9]\\d{9}$\",\"98765432100\"))\n",
        "print(find_pattern(\"^[6-9]\\d{9}$\",\"987654321\"))\n",
        "print(find_pattern(\"^[6-9]\\d{9}$\",\"05642587547\"))\n",
        "print(find_pattern(\"^[6-9]\\d{9}$\",\"9876543211\"))\n",
        "print(find_pattern(pattern,\"7022537531\"))"
      ],
      "metadata": {
        "colab": {
          "base_uri": "https://localhost:8080/"
        },
        "id": "l28bQ6QgWv3b",
        "outputId": "7e761b91-bba6-4cb9-e6d7-45d9a25117e2"
      },
      "execution_count": 65,
      "outputs": [
        {
          "output_type": "stream",
          "name": "stdout",
          "text": [
            "not found\n",
            "not found\n",
            "not found\n",
            "not found\n",
            "<re.Match object; span=(0, 10), match='9876543211'>\n",
            "<re.Match object; span=(0, 10), match='7022537531'>\n"
          ]
        }
      ]
    },
    {
      "cell_type": "code",
      "source": [
        "pattern='^[6-9][0-9]{9}$'\n",
        "print(find_pattern(pattern,\"1234567890\"))\n",
        "print(find_pattern(pattern,\"98765432100\"))\n",
        "print(find_pattern(pattern,\"987654321\"))\n",
        "print(find_pattern(pattern,\"05642587547\"))\n",
        "print(find_pattern(pattern,\"9876543211\"))\n",
        "print(find_pattern(pattern,\"7022537531\"))"
      ],
      "metadata": {
        "colab": {
          "base_uri": "https://localhost:8080/"
        },
        "id": "-JCQ7tQOYCCe",
        "outputId": "6310f7d4-5b34-4a82-91a4-c0564639e31d"
      },
      "execution_count": 69,
      "outputs": [
        {
          "output_type": "stream",
          "name": "stdout",
          "text": [
            "not found\n",
            "not found\n",
            "not found\n",
            "not found\n",
            "<re.Match object; span=(0, 10), match='9876543211'>\n",
            "<re.Match object; span=(0, 10), match='7022537531'>\n"
          ]
        }
      ]
    },
    {
      "cell_type": "code",
      "source": [],
      "metadata": {
        "id": "yi0SPHadYVXt"
      },
      "execution_count": null,
      "outputs": []
    }
  ]
}