{
  "nbformat": 4,
  "nbformat_minor": 0,
  "metadata": {
    "colab": {
      "provenance": [],
      "authorship_tag": "ABX9TyP4hVIfzt5MVcVmLwYVuet0",
      "include_colab_link": true
    },
    "kernelspec": {
      "name": "python3",
      "display_name": "Python 3"
    },
    "language_info": {
      "name": "python"
    }
  },
  "cells": [
    {
      "cell_type": "markdown",
      "metadata": {
        "id": "view-in-github",
        "colab_type": "text"
      },
      "source": [
        "<a href=\"https://colab.research.google.com/github/AshwiniPushkarr/-Linear-Regresion/blob/main/SLR_Practice2.ipynb\" target=\"_parent\"><img src=\"https://colab.research.google.com/assets/colab-badge.svg\" alt=\"Open In Colab\"/></a>"
      ]
    },
    {
      "cell_type": "code",
      "execution_count": 1,
      "metadata": {
        "id": "n6FaxkRSgPtH"
      },
      "outputs": [],
      "source": [
        "import numpy as np  # For numbers and calculations\n",
        "import pandas as pd  # For handling data\n",
        "import matplotlib.pyplot as plt  # For making charts\n",
        "from sklearn.model_selection import train_test_split  # To split data\n",
        "from sklearn.linear_model import LinearRegression  # The SLR model\n",
        "from sklearn.metrics import mean_absolute_error, mean_squared_error  # To check accuracy\n"
      ]
    },
    {
      "cell_type": "code",
      "source": [
        "# import the  dataset\n",
        "df = pd.read_csv(\"house_prices.csv\")\n",
        "\n",
        "# Convert into a DataFrame\n",
        "df = pd.DataFrame(df)\n",
        "\n",
        "# Show the first few rows\n",
        "print(df.head())\n"
      ],
      "metadata": {
        "colab": {
          "base_uri": "https://localhost:8080/"
        },
        "id": "fQSQQaU-gQgJ",
        "outputId": "a941733a-58c3-46f7-9212-a53bc49d4ad6"
      },
      "execution_count": 3,
      "outputs": [
        {
          "output_type": "stream",
          "name": "stdout",
          "text": [
            "   SquareFeet  HousePrice\n",
            "0         650         150\n",
            "1         785         180\n",
            "2         950         210\n",
            "3        1120         250\n",
            "4        1300         280\n"
          ]
        }
      ]
    },
    {
      "cell_type": "code",
      "source": [
        "# Split the traain and test data\n",
        "X = df['SquareFeet']\n",
        "y = df['HousePrice']\n",
        "X_train, X_test, y_train, y_test = train_test_split(X, y, test_size = 0.3, random_state =42)\n",
        "print(\"Training data\",X_train.head())\n",
        "print(\"Test data\",y_train.head())"
      ],
      "metadata": {
        "colab": {
          "base_uri": "https://localhost:8080/"
        },
        "id": "UmLMttDTglUu",
        "outputId": "9d9011e6-abfa-4df2-bad7-d72b7a5d39fe"
      },
      "execution_count": 4,
      "outputs": [
        {
          "output_type": "stream",
          "name": "stdout",
          "text": [
            "Training data 0     650\n",
            "7    1750\n",
            "2     950\n",
            "9    2100\n",
            "4    1300\n",
            "Name: SquareFeet, dtype: int64\n",
            "Test data 0    150\n",
            "7    370\n",
            "2    210\n",
            "9    450\n",
            "4    280\n",
            "Name: HousePrice, dtype: int64\n"
          ]
        }
      ]
    },
    {
      "cell_type": "code",
      "source": [
        "X_train = X_train.values.reshape(-1, 1)\n",
        "X_test = X_test.values.reshape(-1, 1)\n",
        "model = LinearRegression()\n",
        "model.fit(X_train, y_train)\n",
        "print(f\"Slope (m): {model.coef_[0]}\")\n",
        "print(\"Intercept (b):\", model.intercept_)"
      ],
      "metadata": {
        "colab": {
          "base_uri": "https://localhost:8080/"
        },
        "id": "w_PZZvY7hgYK",
        "outputId": "fa33427a-3007-4f5a-8ad1-03a8f7eaea4f"
      },
      "execution_count": 9,
      "outputs": [
        {
          "output_type": "stream",
          "name": "stdout",
          "text": [
            "Slope (m): 0.20407576396610558\n",
            "Intercept (b): 16.77178789156858\n"
          ]
        }
      ]
    },
    {
      "cell_type": "code",
      "source": [
        "y_pred = model.predict(X_test)\n",
        "\n",
        "actual_house_prices = df.loc[y_test.index, 'HousePrice']\n",
        "\n",
        "results = pd.DataFrame({'Actual': actual_house_prices, 'Predicted': y_pred.flatten()})\n",
        "print(results)"
      ],
      "metadata": {
        "colab": {
          "base_uri": "https://localhost:8080/"
        },
        "id": "zWqoyNvuh36b",
        "outputId": "7845e2fd-4b3f-4430-c6eb-a3c5a4d23b3f"
      },
      "execution_count": 16,
      "outputs": [
        {
          "output_type": "stream",
          "name": "stdout",
          "text": [
            "   Actual   Predicted\n",
            "8     400  404.515739\n",
            "1     180  176.971263\n",
            "5     310  312.681646\n"
          ]
        }
      ]
    },
    {
      "cell_type": "code",
      "source": [
        "mae = mean_absolute_error(y_test, y_pred)\n",
        "mse = mean_squared_error(y_test, y_pred)\n",
        "print(f\"Mean Absolute Error: {mae}\")\n",
        "print(f\"Mean Squared Error: {mse}\")"
      ],
      "metadata": {
        "colab": {
          "base_uri": "https://localhost:8080/"
        },
        "id": "Gvx5FVk4kFx6",
        "outputId": "bbd1d918-8b2b-4370-d1ea-e470ba6f46ba"
      },
      "execution_count": 18,
      "outputs": [
        {
          "output_type": "stream",
          "name": "stdout",
          "text": [
            "Mean Absolute Error: 3.4087074882097945\n",
            "Mean Squared Error: 12.252125377904745\n"
          ]
        }
      ]
    },
    {
      "cell_type": "code",
      "source": [
        "# ... (your previous code) ...\n",
        "\n",
        "# Reshape X to be 2-dimensional\n",
        "X_reshaped = X.values.reshape(-1, 1)\n",
        "\n",
        "plt.scatter(X_train, y_train, color='blue', label=\"Training Data\")\n",
        "plt.scatter(X_test, y_test, color='red', label=\"Testing Data\")\n",
        "plt.plot(X, model.predict(X_reshaped), color='green', label=\"Best Fit Line\")  # Use X_reshaped for prediction\n",
        "plt.xlabel(\"SquareFeet\")\n",
        "plt.ylabel(\"HousePrice\")\n",
        "plt.title(\"Simple Linear Regression: SquareFeet vs HousePrice\")\n",
        "plt.legend()\n",
        "plt.show()"
      ],
      "metadata": {
        "colab": {
          "base_uri": "https://localhost:8080/",
          "height": 472
        },
        "id": "8WkQxlUskXc5",
        "outputId": "5c7b5c43-00b8-496a-d931-49562b52bde7"
      },
      "execution_count": 27,
      "outputs": [
        {
          "output_type": "display_data",
          "data": {
            "text/plain": [
              "<Figure size 640x480 with 1 Axes>"
            ],
            "image/png": "[encoded data removed]"
          },
          "metadata": {}
        }
      ]
    },
    {
      "cell_type": "code",
      "source": [
        "new_squarefeet = np.array([[1200]])  # 35sqft\n",
        "predicted_housePrice = model.predict(new_squarefeet)\n",
        "\n",
        "# Extract the single predicted value (a number)\n",
        "predicted_value = predicted_housePrice[0]\n",
        "\n",
        "print(f\"Predicted houseprice for {new_squarefeet} squarefeet: {predicted_value:.2f}\")"
      ],
      "metadata": {
        "colab": {
          "base_uri": "https://localhost:8080/"
        },
        "id": "FYgJp7eCkaB_",
        "outputId": "24849177-e59c-4dfa-ce3c-3a695abcf928"
      },
      "execution_count": 39,
      "outputs": [
        {
          "output_type": "stream",
          "name": "stdout",
          "text": [
            "(1,)\n",
            "Predicted houseprice for [[1200]] squarefeet: 261.66\n"
          ]
        }
      ]
    },
    {
      "cell_type": "code",
      "source": [],
      "metadata": {
        "id": "cN1eLh3DmbY-"
      },
      "execution_count": null,
      "outputs": []
    }
  ]
}