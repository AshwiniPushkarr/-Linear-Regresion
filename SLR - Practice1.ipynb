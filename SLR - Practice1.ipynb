{
  "nbformat": 4,
  "nbformat_minor": 0,
  "metadata": {
    "colab": {
      "provenance": [],
      "authorship_tag": "ABX9TyNvGBjYf4k43mJZNiSwz47a",
      "include_colab_link": true
    },
    "kernelspec": {
      "name": "python3",
      "display_name": "Python 3"
    },
    "language_info": {
      "name": "python"
    }
  },
  "cells": [
    {
      "cell_type": "markdown",
      "metadata": {
        "id": "view-in-github",
        "colab_type": "text"
      },
      "source": [
        "<a href=\"https://colab.research.google.com/github/AshwiniPushkarr/-Linear-Regresion/blob/main/SLR%20-%20Practice1.ipynb\" target=\"_parent\"><img src=\"https://colab.research.google.com/assets/colab-badge.svg\" alt=\"Open In Colab\"/></a>"
      ]
    },
    {
      "cell_type": "code",
      "execution_count": 1,
      "metadata": {
        "id": "LfgpvUYDbkBz"
      },
      "outputs": [],
      "source": [
        "import numpy as np  # For numbers and calculations\n",
        "import pandas as pd  # For handling data\n",
        "import matplotlib.pyplot as plt  # For making charts\n",
        "from sklearn.model_selection import train_test_split  # To split data\n",
        "from sklearn.linear_model import LinearRegression  # The SLR model\n",
        "from sklearn.metrics import mean_absolute_error, mean_squared_error  # To check accuracy\n"
      ]
    },
    {
      "cell_type": "code",
      "source": [
        "# Create a dataset\n",
        "data = {\n",
        "    'Temperature': [20, 22, 24, 26, 28, 30, 32, 34, 36, 38],\n",
        "    'IceCreamSales': [200, 220, 240, 260, 280, 300, 320, 340, 360, 380]\n",
        "}\n",
        "\n",
        "# Convert into a DataFrame\n",
        "df = pd.DataFrame(data)\n",
        "\n",
        "# Show the first few rows\n",
        "print(df.head())\n"
      ],
      "metadata": {
        "colab": {
          "base_uri": "https://localhost:8080/"
        },
        "id": "b5vDljksbnGJ",
        "outputId": "6b406897-3d7f-4620-834b-3196f95bdbb8"
      },
      "execution_count": 2,
      "outputs": [
        {
          "output_type": "stream",
          "name": "stdout",
          "text": [
            "   Temperature  IceCreamSales\n",
            "0           20            200\n",
            "1           22            220\n",
            "2           24            240\n",
            "3           26            260\n",
            "4           28            280\n"
          ]
        }
      ]
    },
    {
      "cell_type": "code",
      "source": [
        "X = df[['Temperature']]\n",
        "y = df[['IceCreamSales']]\n",
        "X_train,X_test,y_train,y_test = train_test_split(X,y,test_size=0.3, random_state =42)\n",
        "print(\"Training Data:\\n\", X_train.head())\n",
        "print(\"Testing Data:\\n\", X_test.head())"
      ],
      "metadata": {
        "colab": {
          "base_uri": "https://localhost:8080/"
        },
        "id": "H7FMdYm_b0X5",
        "outputId": "15273030-3a4f-4c50-a1aa-a371b226f4e6"
      },
      "execution_count": 10,
      "outputs": [
        {
          "output_type": "stream",
          "name": "stdout",
          "text": [
            "Training Data:\n",
            "    Temperature\n",
            "0           20\n",
            "7           34\n",
            "2           24\n",
            "9           38\n",
            "4           28\n",
            "Testing Data:\n",
            "    Temperature\n",
            "8           36\n",
            "1           22\n",
            "5           30\n"
          ]
        }
      ]
    },
    {
      "cell_type": "code",
      "source": [
        "X_train = X_train.values.reshape(-1, 1)\n",
        "X_test = X_test.values.reshape(-1, 1)"
      ],
      "metadata": {
        "id": "TFqEfQ20jP_x"
      },
      "execution_count": 19,
      "outputs": []
    },
    {
      "cell_type": "code",
      "source": [
        "model = LinearRegression()\n",
        "#model.fit(X_train. y_train)\n",
        "model.fit(X_train, y_train)\n",
        "print(f\"Slope (m): {model.coef_[0]}\")\n",
        "print(f\"Intercept (b): {model.intercept_}\")"
      ],
      "metadata": {
        "colab": {
          "base_uri": "https://localhost:8080/"
        },
        "id": "z2pB31G7cdtV",
        "outputId": "f4434a30-a09f-45d4-b6e9-4656e38234cc"
      },
      "execution_count": 20,
      "outputs": [
        {
          "output_type": "stream",
          "name": "stdout",
          "text": [
            "Slope (m): [10.]\n",
            "Intercept (b): [-1.13686838e-13]\n"
          ]
        }
      ]
    },
    {
      "cell_type": "code",
      "source": [
        "y_pred = model.predict(X_test)\n",
        "results = pd.DataFrame({'Actual': y_test['IceCreamSales'], 'Predicted': y_pred.flatten()})\n",
        "print(results)"
      ],
      "metadata": {
        "colab": {
          "base_uri": "https://localhost:8080/"
        },
        "id": "b6f7HSVWcuBz",
        "outputId": "e622f4e2-0dd6-4e4f-b692-2c280bb6983d"
      },
      "execution_count": 21,
      "outputs": [
        {
          "output_type": "stream",
          "name": "stdout",
          "text": [
            "   Actual  Predicted\n",
            "8     360      360.0\n",
            "1     220      220.0\n",
            "5     300      300.0\n"
          ]
        }
      ]
    },
    {
      "cell_type": "code",
      "source": [
        "mae = mean_absolute_error(y_test, y_pred)\n",
        "mse = mean_squared_error(y_test, y_pred)\n",
        "\n",
        "print(f\"Mean Absolute Error: {mae}\")\n",
        "print(f\"Mean Squared Error: {mse}\")"
      ],
      "metadata": {
        "colab": {
          "base_uri": "https://localhost:8080/"
        },
        "id": "IzXbgQQzd4q4",
        "outputId": "f56263c6-062d-4614-b465-5b041f3f1dff"
      },
      "execution_count": 22,
      "outputs": [
        {
          "output_type": "stream",
          "name": "stdout",
          "text": [
            "Mean Absolute Error: 9.473903143468002e-15\n",
            "Mean Squared Error: 2.692645223154387e-28\n"
          ]
        }
      ]
    },
    {
      "cell_type": "code",
      "source": [
        "plt.scatter(X_train, y_train, color='blue', label=\"Training Data\")\n",
        "plt.scatter(X_test, y_test, color='red', label=\"Testing Data\")\n",
        "plt.plot(X, model.predict(X), color='green', label=\"Best Fit Line\")\n",
        "plt.xlabel(\"Temperature (°C)\")\n",
        "plt.ylabel(\"Ice Cream Sales\")\n",
        "plt.title(\"Simple Linear Regression: Ice Cream Sales vs Temperature\")\n",
        "plt.legend()\n",
        "plt.show()\n"
      ],
      "metadata": {
        "colab": {
          "base_uri": "https://localhost:8080/",
          "height": 528
        },
        "id": "NZMhXlfgeXnt",
        "outputId": "2df1cd5f-cdf1-4636-8931-18314f71bea9"
      },
      "execution_count": 25,
      "outputs": [
        {
          "output_type": "stream",
          "name": "stderr",
          "text": [
            "/usr/local/lib/python3.11/dist-packages/sklearn/utils/validation.py:2732: UserWarning: X has feature names, but LinearRegression was fitted without feature names\n",
            "  warnings.warn(\n"
          ]
        },
        {
          "output_type": "display_data",
          "data": {
            "text/plain": [
              "<Figure size 640x480 with 1 Axes>"
            ],
            "image/png": "[encoded data removed]"
          },
          "metadata": {}
        }
      ]
    },
    {
      "cell_type": "code",
      "source": [
        "new_temperature = np.array([[1200]])  # 35 sqft\n",
        "predicted_sales = model.predict(new_temperature)\n",
        "\n",
        "# Extract the single predicted value (a number)\n",
        "predicted_value = predicted_sales[0][0]\n",
        "\n",
        "print(f\"Predicted Ice Cream Sales at 35°C: {predicted_value:.2f}\")"
      ],
      "metadata": {
        "colab": {
          "base_uri": "https://localhost:8080/"
        },
        "id": "pTucFvcTeg4F",
        "outputId": "f5669de9-4b6b-49aa-f133-e2fd1c3f0a0d"
      },
      "execution_count": 26,
      "outputs": [
        {
          "output_type": "stream",
          "name": "stdout",
          "text": [
            "Predicted Ice Cream Sales at 35°C: 12000.00\n"
          ]
        }
      ]
    },
    {
      "cell_type": "code",
      "source": [],
      "metadata": {
        "id": "rVUszvQnep6l"
      },
      "execution_count": null,
      "outputs": []
    }
  ]
}